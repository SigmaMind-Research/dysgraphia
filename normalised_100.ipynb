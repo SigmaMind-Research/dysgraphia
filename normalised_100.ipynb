{
  "cells": [
    {
      "cell_type": "code",
      "execution_count": 1,
      "metadata": {
        "id": "ZwqFf0oJXrsG"
      },
      "outputs": [],
      "source": [
        "# import necessary packages\n",
        "import itertools\n",
        "import matplotlib.pyplot as plt\n",
        "from sklearn.preprocessing import LabelEncoder\n",
        "from sklearn.model_selection import  train_test_split\n",
        "from sklearn.metrics import classification_report\n",
        "from imutils import paths\n",
        "import os\n",
        "import glob\n",
        "import cv2\n",
        "import numpy as np\n",
        "import pandas as pd\n",
        "#from skimage import data, io, filters\n",
        "from keras.layers import Dense, Dropout, Flatten, Conv2D, MaxPool2D\n",
        "from keras.datasets import mnist\n",
        "from keras.models import Sequential\n",
        "from keras.layers import Dense, Conv2D, Dropout, MaxPool2D\n",
        "from PIL import Image, ImageEnhance\n",
        "#from keras.utils import np_utils"
      ]
    },
    {
      "cell_type": "code",
      "execution_count": 2,
      "metadata": {
        "colab": {
          "base_uri": "https://localhost:8080/"
        },
        "id": "HaehhMhsumzs",
        "outputId": "42a6729f-3481-41e0-d7c5-81577f651b05"
      },
      "outputs": [
        {
          "name": "stdout",
          "output_type": "stream",
          "text": [
            "Mounted at /content/drive\n"
          ]
        }
      ],
      "source": [
        "from google.colab import drive\n",
        "drive.mount('/content/drive')"
      ]
    },
    {
      "cell_type": "code",
      "execution_count": 3,
      "metadata": {
        "id": "I94tgClyNlWm"
      },
      "outputs": [],
      "source": [
        "features=pd.read_csv('/content/drive/MyDrive/features.csv')"
      ]
    },
    {
      "cell_type": "code",
      "execution_count": 4,
      "metadata": {
        "colab": {
          "base_uri": "https://localhost:8080/",
          "height": 423
        },
        "id": "w_umt9BHN8z0",
        "outputId": "39090f1e-c504-4923-f6f9-049def872a8b"
      },
      "outputs": [
        {
          "data": {
            "text/html": [
              "\n",
              "  <div id=\"df-0900e968-5cca-4a8b-9e9d-5039e370bd76\" class=\"colab-df-container\">\n",
              "    <div>\n",
              "<style scoped>\n",
              "    .dataframe tbody tr th:only-of-type {\n",
              "        vertical-align: middle;\n",
              "    }\n",
              "\n",
              "    .dataframe tbody tr th {\n",
              "        vertical-align: top;\n",
              "    }\n",
              "\n",
              "    .dataframe thead th {\n",
              "        text-align: right;\n",
              "    }\n",
              "</style>\n",
              "<table border=\"1\" class=\"dataframe\">\n",
              "  <thead>\n",
              "    <tr style=\"text-align: right;\">\n",
              "      <th></th>\n",
              "      <th>Pen Pressure</th>\n",
              "      <th>Line Spacing</th>\n",
              "      <th>Slant Angle</th>\n",
              "      <th>Baseline angle</th>\n",
              "      <th>Category</th>\n",
              "    </tr>\n",
              "  </thead>\n",
              "  <tbody>\n",
              "    <tr>\n",
              "      <th>0</th>\n",
              "      <td>361.392662</td>\n",
              "      <td>331.040000</td>\n",
              "      <td>5</td>\n",
              "      <td>0.000000</td>\n",
              "      <td>True</td>\n",
              "    </tr>\n",
              "    <tr>\n",
              "      <th>1</th>\n",
              "      <td>195.361137</td>\n",
              "      <td>1855.888889</td>\n",
              "      <td>5</td>\n",
              "      <td>6.169961</td>\n",
              "      <td>True</td>\n",
              "    </tr>\n",
              "    <tr>\n",
              "      <th>2</th>\n",
              "      <td>431.525255</td>\n",
              "      <td>318.000000</td>\n",
              "      <td>5</td>\n",
              "      <td>65.521539</td>\n",
              "      <td>True</td>\n",
              "    </tr>\n",
              "    <tr>\n",
              "      <th>3</th>\n",
              "      <td>286.433345</td>\n",
              "      <td>291.000000</td>\n",
              "      <td>5</td>\n",
              "      <td>70.179114</td>\n",
              "      <td>True</td>\n",
              "    </tr>\n",
              "    <tr>\n",
              "      <th>4</th>\n",
              "      <td>1444.462220</td>\n",
              "      <td>503.632653</td>\n",
              "      <td>5</td>\n",
              "      <td>0.000000</td>\n",
              "      <td>True</td>\n",
              "    </tr>\n",
              "    <tr>\n",
              "      <th>...</th>\n",
              "      <td>...</td>\n",
              "      <td>...</td>\n",
              "      <td>...</td>\n",
              "      <td>...</td>\n",
              "      <td>...</td>\n",
              "    </tr>\n",
              "    <tr>\n",
              "      <th>2285</th>\n",
              "      <td>28.906891</td>\n",
              "      <td>40.000000</td>\n",
              "      <td>-5</td>\n",
              "      <td>0.000000</td>\n",
              "      <td>False</td>\n",
              "    </tr>\n",
              "    <tr>\n",
              "      <th>2286</th>\n",
              "      <td>19.029346</td>\n",
              "      <td>899.000000</td>\n",
              "      <td>-5</td>\n",
              "      <td>0.000000</td>\n",
              "      <td>False</td>\n",
              "    </tr>\n",
              "    <tr>\n",
              "      <th>2287</th>\n",
              "      <td>14.597426</td>\n",
              "      <td>899.000000</td>\n",
              "      <td>-5</td>\n",
              "      <td>0.000000</td>\n",
              "      <td>False</td>\n",
              "    </tr>\n",
              "    <tr>\n",
              "      <th>2288</th>\n",
              "      <td>37.955066</td>\n",
              "      <td>9840.555556</td>\n",
              "      <td>-5</td>\n",
              "      <td>0.000000</td>\n",
              "      <td>False</td>\n",
              "    </tr>\n",
              "    <tr>\n",
              "      <th>2289</th>\n",
              "      <td>114.524707</td>\n",
              "      <td>9678.000000</td>\n",
              "      <td>-5</td>\n",
              "      <td>0.000000</td>\n",
              "      <td>False</td>\n",
              "    </tr>\n",
              "  </tbody>\n",
              "</table>\n",
              "<p>2290 rows × 5 columns</p>\n",
              "</div>\n",
              "    <div class=\"colab-df-buttons\">\n",
              "\n",
              "  <div class=\"colab-df-container\">\n",
              "    <button class=\"colab-df-convert\" onclick=\"convertToInteractive('df-0900e968-5cca-4a8b-9e9d-5039e370bd76')\"\n",
              "            title=\"Convert this dataframe to an interactive table.\"\n",
              "            style=\"display:none;\">\n",
              "\n",
              "  <svg xmlns=\"http://www.w3.org/2000/svg\" height=\"24px\" viewBox=\"0 -960 960 960\">\n",
              "    <path d=\"M120-120v-720h720v720H120Zm60-500h600v-160H180v160Zm220 220h160v-160H400v160Zm0 220h160v-160H400v160ZM180-400h160v-160H180v160Zm440 0h160v-160H620v160ZM180-180h160v-160H180v160Zm440 0h160v-160H620v160Z\"/>\n",
              "  </svg>\n",
              "    </button>\n",
              "\n",
              "  <style>\n",
              "    .colab-df-container {\n",
              "      display:flex;\n",
              "      gap: 12px;\n",
              "    }\n",
              "\n",
              "    .colab-df-convert {\n",
              "      background-color: #E8F0FE;\n",
              "      border: none;\n",
              "      border-radius: 50%;\n",
              "      cursor: pointer;\n",
              "      display: none;\n",
              "      fill: #1967D2;\n",
              "      height: 32px;\n",
              "      padding: 0 0 0 0;\n",
              "      width: 32px;\n",
              "    }\n",
              "\n",
              "    .colab-df-convert:hover {\n",
              "      background-color: #E2EBFA;\n",
              "      box-shadow: 0px 1px 2px rgba(60, 64, 67, 0.3), 0px 1px 3px 1px rgba(60, 64, 67, 0.15);\n",
              "      fill: #174EA6;\n",
              "    }\n",
              "\n",
              "    .colab-df-buttons div {\n",
              "      margin-bottom: 4px;\n",
              "    }\n",
              "\n",
              "    [theme=dark] .colab-df-convert {\n",
              "      background-color: #3B4455;\n",
              "      fill: #D2E3FC;\n",
              "    }\n",
              "\n",
              "    [theme=dark] .colab-df-convert:hover {\n",
              "      background-color: #434B5C;\n",
              "      box-shadow: 0px 1px 3px 1px rgba(0, 0, 0, 0.15);\n",
              "      filter: drop-shadow(0px 1px 2px rgba(0, 0, 0, 0.3));\n",
              "      fill: #FFFFFF;\n",
              "    }\n",
              "  </style>\n",
              "\n",
              "    <script>\n",
              "      const buttonEl =\n",
              "        document.querySelector('#df-0900e968-5cca-4a8b-9e9d-5039e370bd76 button.colab-df-convert');\n",
              "      buttonEl.style.display =\n",
              "        google.colab.kernel.accessAllowed ? 'block' : 'none';\n",
              "\n",
              "      async function convertToInteractive(key) {\n",
              "        const element = document.querySelector('#df-0900e968-5cca-4a8b-9e9d-5039e370bd76');\n",
              "        const dataTable =\n",
              "          await google.colab.kernel.invokeFunction('convertToInteractive',\n",
              "                                                    [key], {});\n",
              "        if (!dataTable) return;\n",
              "\n",
              "        const docLinkHtml = 'Like what you see? Visit the ' +\n",
              "          '<a target=\"_blank\" href=https://colab.research.google.com/notebooks/data_table.ipynb>data table notebook</a>'\n",
              "          + ' to learn more about interactive tables.';\n",
              "        element.innerHTML = '';\n",
              "        dataTable['output_type'] = 'display_data';\n",
              "        await google.colab.output.renderOutput(dataTable, element);\n",
              "        const docLink = document.createElement('div');\n",
              "        docLink.innerHTML = docLinkHtml;\n",
              "        element.appendChild(docLink);\n",
              "      }\n",
              "    </script>\n",
              "  </div>\n",
              "\n",
              "\n",
              "<div id=\"df-86ebc207-8831-421c-bf5c-3acd5495e728\">\n",
              "  <button class=\"colab-df-quickchart\" onclick=\"quickchart('df-86ebc207-8831-421c-bf5c-3acd5495e728')\"\n",
              "            title=\"Suggest charts\"\n",
              "            style=\"display:none;\">\n",
              "\n",
              "<svg xmlns=\"http://www.w3.org/2000/svg\" height=\"24px\"viewBox=\"0 0 24 24\"\n",
              "     width=\"24px\">\n",
              "    <g>\n",
              "        <path d=\"M19 3H5c-1.1 0-2 .9-2 2v14c0 1.1.9 2 2 2h14c1.1 0 2-.9 2-2V5c0-1.1-.9-2-2-2zM9 17H7v-7h2v7zm4 0h-2V7h2v10zm4 0h-2v-4h2v4z\"/>\n",
              "    </g>\n",
              "</svg>\n",
              "  </button>\n",
              "\n",
              "<style>\n",
              "  .colab-df-quickchart {\n",
              "      --bg-color: #E8F0FE;\n",
              "      --fill-color: #1967D2;\n",
              "      --hover-bg-color: #E2EBFA;\n",
              "      --hover-fill-color: #174EA6;\n",
              "      --disabled-fill-color: #AAA;\n",
              "      --disabled-bg-color: #DDD;\n",
              "  }\n",
              "\n",
              "  [theme=dark] .colab-df-quickchart {\n",
              "      --bg-color: #3B4455;\n",
              "      --fill-color: #D2E3FC;\n",
              "      --hover-bg-color: #434B5C;\n",
              "      --hover-fill-color: #FFFFFF;\n",
              "      --disabled-bg-color: #3B4455;\n",
              "      --disabled-fill-color: #666;\n",
              "  }\n",
              "\n",
              "  .colab-df-quickchart {\n",
              "    background-color: var(--bg-color);\n",
              "    border: none;\n",
              "    border-radius: 50%;\n",
              "    cursor: pointer;\n",
              "    display: none;\n",
              "    fill: var(--fill-color);\n",
              "    height: 32px;\n",
              "    padding: 0;\n",
              "    width: 32px;\n",
              "  }\n",
              "\n",
              "  .colab-df-quickchart:hover {\n",
              "    background-color: var(--hover-bg-color);\n",
              "    box-shadow: 0 1px 2px rgba(60, 64, 67, 0.3), 0 1px 3px 1px rgba(60, 64, 67, 0.15);\n",
              "    fill: var(--button-hover-fill-color);\n",
              "  }\n",
              "\n",
              "  .colab-df-quickchart-complete:disabled,\n",
              "  .colab-df-quickchart-complete:disabled:hover {\n",
              "    background-color: var(--disabled-bg-color);\n",
              "    fill: var(--disabled-fill-color);\n",
              "    box-shadow: none;\n",
              "  }\n",
              "\n",
              "  .colab-df-spinner {\n",
              "    border: 2px solid var(--fill-color);\n",
              "    border-color: transparent;\n",
              "    border-bottom-color: var(--fill-color);\n",
              "    animation:\n",
              "      spin 1s steps(1) infinite;\n",
              "  }\n",
              "\n",
              "  @keyframes spin {\n",
              "    0% {\n",
              "      border-color: transparent;\n",
              "      border-bottom-color: var(--fill-color);\n",
              "      border-left-color: var(--fill-color);\n",
              "    }\n",
              "    20% {\n",
              "      border-color: transparent;\n",
              "      border-left-color: var(--fill-color);\n",
              "      border-top-color: var(--fill-color);\n",
              "    }\n",
              "    30% {\n",
              "      border-color: transparent;\n",
              "      border-left-color: var(--fill-color);\n",
              "      border-top-color: var(--fill-color);\n",
              "      border-right-color: var(--fill-color);\n",
              "    }\n",
              "    40% {\n",
              "      border-color: transparent;\n",
              "      border-right-color: var(--fill-color);\n",
              "      border-top-color: var(--fill-color);\n",
              "    }\n",
              "    60% {\n",
              "      border-color: transparent;\n",
              "      border-right-color: var(--fill-color);\n",
              "    }\n",
              "    80% {\n",
              "      border-color: transparent;\n",
              "      border-right-color: var(--fill-color);\n",
              "      border-bottom-color: var(--fill-color);\n",
              "    }\n",
              "    90% {\n",
              "      border-color: transparent;\n",
              "      border-bottom-color: var(--fill-color);\n",
              "    }\n",
              "  }\n",
              "</style>\n",
              "\n",
              "  <script>\n",
              "    async function quickchart(key) {\n",
              "      const quickchartButtonEl =\n",
              "        document.querySelector('#' + key + ' button');\n",
              "      quickchartButtonEl.disabled = true;  // To prevent multiple clicks.\n",
              "      quickchartButtonEl.classList.add('colab-df-spinner');\n",
              "      try {\n",
              "        const charts = await google.colab.kernel.invokeFunction(\n",
              "            'suggestCharts', [key], {});\n",
              "      } catch (error) {\n",
              "        console.error('Error during call to suggestCharts:', error);\n",
              "      }\n",
              "      quickchartButtonEl.classList.remove('colab-df-spinner');\n",
              "      quickchartButtonEl.classList.add('colab-df-quickchart-complete');\n",
              "    }\n",
              "    (() => {\n",
              "      let quickchartButtonEl =\n",
              "        document.querySelector('#df-86ebc207-8831-421c-bf5c-3acd5495e728 button');\n",
              "      quickchartButtonEl.style.display =\n",
              "        google.colab.kernel.accessAllowed ? 'block' : 'none';\n",
              "    })();\n",
              "  </script>\n",
              "</div>\n",
              "\n",
              "  <div id=\"id_4859a244-72a1-4a49-81b2-d8b538c1a973\">\n",
              "    <style>\n",
              "      .colab-df-generate {\n",
              "        background-color: #E8F0FE;\n",
              "        border: none;\n",
              "        border-radius: 50%;\n",
              "        cursor: pointer;\n",
              "        display: none;\n",
              "        fill: #1967D2;\n",
              "        height: 32px;\n",
              "        padding: 0 0 0 0;\n",
              "        width: 32px;\n",
              "      }\n",
              "\n",
              "      .colab-df-generate:hover {\n",
              "        background-color: #E2EBFA;\n",
              "        box-shadow: 0px 1px 2px rgba(60, 64, 67, 0.3), 0px 1px 3px 1px rgba(60, 64, 67, 0.15);\n",
              "        fill: #174EA6;\n",
              "      }\n",
              "\n",
              "      [theme=dark] .colab-df-generate {\n",
              "        background-color: #3B4455;\n",
              "        fill: #D2E3FC;\n",
              "      }\n",
              "\n",
              "      [theme=dark] .colab-df-generate:hover {\n",
              "        background-color: #434B5C;\n",
              "        box-shadow: 0px 1px 3px 1px rgba(0, 0, 0, 0.15);\n",
              "        filter: drop-shadow(0px 1px 2px rgba(0, 0, 0, 0.3));\n",
              "        fill: #FFFFFF;\n",
              "      }\n",
              "    </style>\n",
              "    <button class=\"colab-df-generate\" onclick=\"generateWithVariable('features')\"\n",
              "            title=\"Generate code using this dataframe.\"\n",
              "            style=\"display:none;\">\n",
              "\n",
              "  <svg xmlns=\"http://www.w3.org/2000/svg\" height=\"24px\"viewBox=\"0 0 24 24\"\n",
              "       width=\"24px\">\n",
              "    <path d=\"M7,19H8.4L18.45,9,17,7.55,7,17.6ZM5,21V16.75L18.45,3.32a2,2,0,0,1,2.83,0l1.4,1.43a1.91,1.91,0,0,1,.58,1.4,1.91,1.91,0,0,1-.58,1.4L9.25,21ZM18.45,9,17,7.55Zm-12,3A5.31,5.31,0,0,0,4.9,8.1,5.31,5.31,0,0,0,1,6.5,5.31,5.31,0,0,0,4.9,4.9,5.31,5.31,0,0,0,6.5,1,5.31,5.31,0,0,0,8.1,4.9,5.31,5.31,0,0,0,12,6.5,5.46,5.46,0,0,0,6.5,12Z\"/>\n",
              "  </svg>\n",
              "    </button>\n",
              "    <script>\n",
              "      (() => {\n",
              "      const buttonEl =\n",
              "        document.querySelector('#id_4859a244-72a1-4a49-81b2-d8b538c1a973 button.colab-df-generate');\n",
              "      buttonEl.style.display =\n",
              "        google.colab.kernel.accessAllowed ? 'block' : 'none';\n",
              "\n",
              "      buttonEl.onclick = () => {\n",
              "        google.colab.notebook.generateWithVariable('features');\n",
              "      }\n",
              "      })();\n",
              "    </script>\n",
              "  </div>\n",
              "\n",
              "    </div>\n",
              "  </div>\n"
            ],
            "text/plain": [
              "      Pen Pressure  Line Spacing  Slant Angle  Baseline angle  Category\n",
              "0       361.392662    331.040000            5        0.000000      True\n",
              "1       195.361137   1855.888889            5        6.169961      True\n",
              "2       431.525255    318.000000            5       65.521539      True\n",
              "3       286.433345    291.000000            5       70.179114      True\n",
              "4      1444.462220    503.632653            5        0.000000      True\n",
              "...            ...           ...          ...             ...       ...\n",
              "2285     28.906891     40.000000           -5        0.000000     False\n",
              "2286     19.029346    899.000000           -5        0.000000     False\n",
              "2287     14.597426    899.000000           -5        0.000000     False\n",
              "2288     37.955066   9840.555556           -5        0.000000     False\n",
              "2289    114.524707   9678.000000           -5        0.000000     False\n",
              "\n",
              "[2290 rows x 5 columns]"
            ]
          },
          "execution_count": 4,
          "metadata": {},
          "output_type": "execute_result"
        }
      ],
      "source": [
        "features=features.drop('Link',axis=1)\n",
        "features"
      ]
    },
    {
      "cell_type": "code",
      "execution_count": 5,
      "metadata": {
        "colab": {
          "base_uri": "https://localhost:8080/"
        },
        "id": "X-0KU0KaObte",
        "outputId": "3ecc7b85-097c-47ab-b680-a2aec6f2023a"
      },
      "outputs": [
        {
          "data": {
            "text/plain": [
              "0        True\n",
              "1        True\n",
              "2        True\n",
              "3        True\n",
              "4        True\n",
              "        ...  \n",
              "2285    False\n",
              "2286    False\n",
              "2287    False\n",
              "2288    False\n",
              "2289    False\n",
              "Name: Category, Length: 2290, dtype: bool"
            ]
          },
          "execution_count": 5,
          "metadata": {},
          "output_type": "execute_result"
        }
      ],
      "source": [
        "lables=features['Category']\n",
        "lables"
      ]
    },
    {
      "cell_type": "code",
      "execution_count": 6,
      "metadata": {
        "id": "oTqJ4VQ8Otqc"
      },
      "outputs": [],
      "source": [
        "features=features.drop('Category',axis=1)"
      ]
    },
    {
      "cell_type": "code",
      "execution_count": 14,
      "metadata": {
        "colab": {
          "base_uri": "https://localhost:8080/"
        },
        "id": "LFmO2Ns79hHr",
        "outputId": "0487d6a6-8ada-4832-f601-7299cc9ccb09"
      },
      "outputs": [
        {
          "name": "stdout",
          "output_type": "stream",
          "text": [
            "Pen Pressure       3401.229680\n",
            "Line Spacing      98965.250000\n",
            "Slant Angle          15.000000\n",
            "Baseline angle     1363.664609\n",
            "dtype: float64\n"
          ]
        }
      ],
      "source": [
        "print(features.max())"
      ]
    },
    {
      "cell_type": "code",
      "execution_count": 18,
      "metadata": {
        "colab": {
          "base_uri": "https://localhost:8080/"
        },
        "id": "RXnusx0P-BL3",
        "outputId": "26b9d902-8176-4777-c20b-570420026936"
      },
      "outputs": [
        {
          "name": "stdout",
          "output_type": "stream",
          "text": [
            "Pen Pressure\n",
            "Line Spacing\n",
            "Slant Angle\n",
            "Baseline angle\n"
          ]
        }
      ],
      "source": [
        "for i in features.columns:\n",
        "  print(i)"
      ]
    },
    {
      "cell_type": "code",
      "execution_count": 19,
      "metadata": {
        "id": "p_-6pteM-amm"
      },
      "outputs": [],
      "source": [
        "for i in features.columns:\n",
        "  features[i]=((features[i]-features[i].min())/(features[i].max()-features[i].min()))*255"
      ]
    },
    {
      "cell_type": "code",
      "execution_count": 20,
      "metadata": {
        "id": "M0HcPyFLQ63W"
      },
      "outputs": [],
      "source": [
        "data=[]\n",
        "for i in range(0,len(features.index)):\n",
        "  lst=np.float64(features.loc[i].to_numpy());\n",
        "  kt=lst.copy()\n",
        "  lst=np.concatenate((lst,lst))\n",
        "  lst=np.concatenate((lst,kt))\n",
        "  lst=np.reshape(lst,(4,1,3))\n",
        "  lst=cv2.resize(lst,(32,32))\n",
        "  data.append(lst)"
      ]
    },
    {
      "cell_type": "code",
      "execution_count": 21,
      "metadata": {
        "id": "xPJXeAPYTF1e"
      },
      "outputs": [],
      "source": [
        "data=np.float64(np.array(data))"
      ]
    },
    {
      "cell_type": "code",
      "execution_count": 25,
      "metadata": {
        "colab": {
          "base_uri": "https://localhost:8080/",
          "height": 1000
        },
        "id": "5WA5hBKxUmh4",
        "outputId": "eb5a63b3-2330-4b2c-a556-d8b5aea0bd28"
      },
      "outputs": [
        {
          "name": "stderr",
          "output_type": "stream",
          "text": [
            "WARNING:matplotlib.image:Clipping input data to the valid range for imshow with RGB data ([0..1] for floats or [0..255] for integers).\n"
          ]
        },
        {
          "name": "stdout",
          "output_type": "stream",
          "text": [
            "[[[ 17.43062791   1.5940949  170.        ]\n",
            "  [ 17.43062791   1.5940949  170.        ]\n",
            "  [ 17.43062791   1.5940949  170.        ]\n",
            "  ...\n",
            "  [ 17.43062791   1.5940949  170.        ]\n",
            "  [ 17.43062791   1.5940949  170.        ]\n",
            "  [ 17.43062791   1.5940949  170.        ]]\n",
            "\n",
            " [[ 17.43062791   1.5940949  170.        ]\n",
            "  [ 17.43062791   1.5940949  170.        ]\n",
            "  [ 17.43062791   1.5940949  170.        ]\n",
            "  ...\n",
            "  [ 17.43062791   1.5940949  170.        ]\n",
            "  [ 17.43062791   1.5940949  170.        ]\n",
            "  [ 17.43062791   1.5940949  170.        ]]\n",
            "\n",
            " [[ 17.43062791   1.5940949  170.        ]\n",
            "  [ 17.43062791   1.5940949  170.        ]\n",
            "  [ 17.43062791   1.5940949  170.        ]\n",
            "  ...\n",
            "  [ 17.43062791   1.5940949  170.        ]\n",
            "  [ 17.43062791   1.5940949  170.        ]\n",
            "  [ 17.43062791   1.5940949  170.        ]]\n",
            "\n",
            " ...\n",
            "\n",
            " [[  1.5940949  170.           0.        ]\n",
            "  [  1.5940949  170.           0.        ]\n",
            "  [  1.5940949  170.           0.        ]\n",
            "  ...\n",
            "  [  1.5940949  170.           0.        ]\n",
            "  [  1.5940949  170.           0.        ]\n",
            "  [  1.5940949  170.           0.        ]]\n",
            "\n",
            " [[  1.5940949  170.           0.        ]\n",
            "  [  1.5940949  170.           0.        ]\n",
            "  [  1.5940949  170.           0.        ]\n",
            "  ...\n",
            "  [  1.5940949  170.           0.        ]\n",
            "  [  1.5940949  170.           0.        ]\n",
            "  [  1.5940949  170.           0.        ]]\n",
            "\n",
            " [[  1.5940949  170.           0.        ]\n",
            "  [  1.5940949  170.           0.        ]\n",
            "  [  1.5940949  170.           0.        ]\n",
            "  ...\n",
            "  [  1.5940949  170.           0.        ]\n",
            "  [  1.5940949  170.           0.        ]\n",
            "  [  1.5940949  170.           0.        ]]]\n"
          ]
        },
        {
          "data": {
            "text/plain": [
              "<matplotlib.image.AxesImage at 0x791a8a8dc730>"
            ]
          },
          "execution_count": 25,
          "metadata": {},
          "output_type": "execute_result"
        },
        {
          "data": {
            "image/png": "[encoded data removed]",
            "text/plain": [
              "<Figure size 640x480 with 1 Axes>"
            ]
          },
          "metadata": {},
          "output_type": "display_data"
        }
      ],
      "source": [
        "print(data[6])\n",
        "plt.imshow(data[6])"
      ]
    },
    {
      "cell_type": "code",
      "execution_count": 26,
      "metadata": {
        "colab": {
          "base_uri": "https://localhost:8080/"
        },
        "id": "L72uEUGURL2c",
        "outputId": "3d5e8349-2c8a-454c-f7c1-bc941d31dc6a"
      },
      "outputs": [
        {
          "name": "stdout",
          "output_type": "stream",
          "text": [
            "(2061, 32, 32, 3) (2061,) (2290, 32, 32, 3) (2290,)\n",
            "X_train shape (1854, 32, 32, 3)\n",
            "y_train shape (1854,)\n",
            "X_test shape (229, 32, 32, 3)\n",
            "y_test shape (229,)\n",
            "X_Val shape (207, 32, 32, 3)\n",
            "Y_Val shape (207,)\n"
          ]
        }
      ],
      "source": [
        "\n",
        "#Splitting of dataset into training and test dataset\n",
        "(trainX1, testX, trainY1, testY ) = train_test_split(data, lables, test_size= 0.10, shuffle = True, random_state=42,stratify=lables)\n",
        "#Evaluate the model\n",
        "print(trainX1.shape, trainY1.shape, data.shape, lables.shape)\n",
        "(trainX, valX, trainY, valY ) = train_test_split(trainX1, trainY1, test_size= 0.10, shuffle = True, random_state=42,stratify=trainY1)\n",
        "# trainX=trainX.reshape(4,1,1)\n",
        "# testX=trainX.reshape(4,1,1)\n",
        "# valX=trainX.reshape(4,1,1)\n",
        "# testY=testY.reshape(len(testY),1)\n",
        "# valY=valY.reshape(len(valY),1)\n",
        "print(\"X_train shape\", trainX.shape)\n",
        "print(\"y_train shape\", trainY.shape)\n",
        "print(\"X_test shape\", testX.shape)\n",
        "print(\"y_test shape\", testY.shape)\n",
        "print(\"X_Val shape\", valX.shape)\n",
        "print(\"Y_Val shape\", valY.shape)\n",
        "#trainX /= 255\n",
        "#valX /= 255\n",
        "#testX /= 255"
      ]
    },
    {
      "cell_type": "code",
      "execution_count": 27,
      "metadata": {
        "colab": {
          "base_uri": "https://localhost:8080/"
        },
        "id": "R3foatd5ZApO",
        "outputId": "ae4f4201-8d5c-458d-b96a-6f69a4965cd6"
      },
      "outputs": [
        {
          "name": "stdout",
          "output_type": "stream",
          "text": [
            "[0 1 0 0 0 0 0 0 0 0 0 0 0 0 0 0 0 0 0 0 0 0 0 0 0 0 0 0 0 0 0 0 0 0 0 0 0\n",
            " 0 0 0 0 0 0 0 0 0 0 1 0 0 0 0 0 0 0 0 0 0 0 0 0 0 0 0 0 0 0 0 0 0 0 0 0 0\n",
            " 0 1 0 0 0 1 0 0 0 0 0 0 1 0 0 0 0 0 0 0 0 0 0 0 0 0 0 1 0 0 0 0 0 0 0 0 0\n",
            " 0 0 0 0 0 1 0 0 0 0 0 0 0 0 0 0 0 0 0 0 0 0 0 0 0 0 0 0 0 0 0 0 0 0 0 0 0\n",
            " 0 0 0 0 1 0 0 0 0 0 0 0 0 0 0 0 0 0 0 0 0 0 0 0 0 0 0 0 0 0 0 0 0 0 1 0 0\n",
            " 0 0 0 0 0 0 0 0 0 0 0 0 0 0 0 0 0 0 0 0 0 1]\n"
          ]
        }
      ],
      "source": [
        "from sklearn import preprocessing\n",
        "from sklearn.preprocessing import LabelEncoder\n",
        "label = preprocessing.LabelEncoder()\n",
        "trainY= label.fit_transform(trainY)\n",
        "testY= label.fit_transform(testY)\n",
        "valY= label.fit_transform(valY)\n",
        "print(valY)"
      ]
    },
    {
      "cell_type": "markdown",
      "metadata": {
        "id": "fL_Rb82KhlQ6"
      },
      "source": [
        "**VGG16 Model**\n"
      ]
    },
    {
      "cell_type": "markdown",
      "metadata": {
        "id": "NAROgvEniUz3"
      },
      "source": [
        "**Data Augmentation**"
      ]
    },
    {
      "cell_type": "markdown",
      "metadata": {
        "id": "1UJffayKkQcF"
      },
      "source": [
        "**Transfer Learning using VGG16 (Imagenet)**"
      ]
    },
    {
      "cell_type": "code",
      "execution_count": 28,
      "metadata": {
        "colab": {
          "base_uri": "https://localhost:8080/"
        },
        "id": "HN2_hkEvkEtq",
        "outputId": "767d9c6f-b05b-451e-a699-535b5c381c46"
      },
      "outputs": [
        {
          "name": "stdout",
          "output_type": "stream",
          "text": [
            "Downloading data from https://storage.googleapis.com/tensorflow/keras-applications/vgg16/vgg16_weights_tf_dim_ordering_tf_kernels_notop.h5\n",
            "58889256/58889256 [==============================] - 4s 0us/step\n"
          ]
        }
      ],
      "source": [
        "from tensorflow.keras.applications import VGG16\n",
        "\n",
        "conv_base=VGG16(weights='imagenet',\n",
        "                include_top=False,##we only want to use \"conv\" base\n",
        "                input_shape=(32,32,3))"
      ]
    },
    {
      "cell_type": "code",
      "execution_count": 29,
      "metadata": {
        "colab": {
          "base_uri": "https://localhost:8080/"
        },
        "id": "hnPaeQzYkPiS",
        "outputId": "6c8885a5-1cce-4a3b-a7d6-6bdb9cf10d83"
      },
      "outputs": [
        {
          "name": "stdout",
          "output_type": "stream",
          "text": [
            "Model: \"vgg16\"\n",
            "_________________________________________________________________\n",
            " Layer (type)                Output Shape              Param #   \n",
            "=================================================================\n",
            " input_1 (InputLayer)        [(None, 32, 32, 3)]       0         \n",
            "                                                                 \n",
            " block1_conv1 (Conv2D)       (None, 32, 32, 64)        1792      \n",
            "                                                                 \n",
            " block1_conv2 (Conv2D)       (None, 32, 32, 64)        36928     \n",
            "                                                                 \n",
            " block1_pool (MaxPooling2D)  (None, 16, 16, 64)        0         \n",
            "                                                                 \n",
            " block2_conv1 (Conv2D)       (None, 16, 16, 128)       73856     \n",
            "                                                                 \n",
            " block2_conv2 (Conv2D)       (None, 16, 16, 128)       147584    \n",
            "                                                                 \n",
            " block2_pool (MaxPooling2D)  (None, 8, 8, 128)         0         \n",
            "                                                                 \n",
            " block3_conv1 (Conv2D)       (None, 8, 8, 256)         295168    \n",
            "                                                                 \n",
            " block3_conv2 (Conv2D)       (None, 8, 8, 256)         590080    \n",
            "                                                                 \n",
            " block3_conv3 (Conv2D)       (None, 8, 8, 256)         590080    \n",
            "                                                                 \n",
            " block3_pool (MaxPooling2D)  (None, 4, 4, 256)         0         \n",
            "                                                                 \n",
            " block4_conv1 (Conv2D)       (None, 4, 4, 512)         1180160   \n",
            "                                                                 \n",
            " block4_conv2 (Conv2D)       (None, 4, 4, 512)         2359808   \n",
            "                                                                 \n",
            " block4_conv3 (Conv2D)       (None, 4, 4, 512)         2359808   \n",
            "                                                                 \n",
            " block4_pool (MaxPooling2D)  (None, 2, 2, 512)         0         \n",
            "                                                                 \n",
            " block5_conv1 (Conv2D)       (None, 2, 2, 512)         2359808   \n",
            "                                                                 \n",
            " block5_conv2 (Conv2D)       (None, 2, 2, 512)         2359808   \n",
            "                                                                 \n",
            " block5_conv3 (Conv2D)       (None, 2, 2, 512)         2359808   \n",
            "                                                                 \n",
            " block5_pool (MaxPooling2D)  (None, 1, 1, 512)         0         \n",
            "                                                                 \n",
            "=================================================================\n",
            "Total params: 14714688 (56.13 MB)\n",
            "Trainable params: 14714688 (56.13 MB)\n",
            "Non-trainable params: 0 (0.00 Byte)\n",
            "_________________________________________________________________\n"
          ]
        }
      ],
      "source": [
        "conv_base.summary()"
      ]
    },
    {
      "cell_type": "code",
      "execution_count": 30,
      "metadata": {
        "id": "XDctgiVAkg3N"
      },
      "outputs": [],
      "source": [
        "model_3=Sequential()\n",
        "\n",
        "model_3.add(conv_base)\n",
        "model_3.add(Flatten())\n",
        "model_3.add(Dense(64,activation='relu'))\n",
        "model_3.add(Dense(32,activation='relu'))\n",
        "model_3.add(Dense(16,activation='relu'))\n",
        "model_3.add(Dense(1,activation='sigmoid'))"
      ]
    },
    {
      "cell_type": "code",
      "execution_count": 31,
      "metadata": {
        "colab": {
          "base_uri": "https://localhost:8080/"
        },
        "id": "q6y1WomKlJ6R",
        "outputId": "31f6aa7a-676e-4feb-c810-96d6907b2bcb"
      },
      "outputs": [
        {
          "name": "stdout",
          "output_type": "stream",
          "text": [
            "Model: \"sequential\"\n",
            "_________________________________________________________________\n",
            " Layer (type)                Output Shape              Param #   \n",
            "=================================================================\n",
            " vgg16 (Functional)          (None, 1, 1, 512)         14714688  \n",
            "                                                                 \n",
            " flatten (Flatten)           (None, 512)               0         \n",
            "                                                                 \n",
            " dense (Dense)               (None, 64)                32832     \n",
            "                                                                 \n",
            " dense_1 (Dense)             (None, 32)                2080      \n",
            "                                                                 \n",
            " dense_2 (Dense)             (None, 16)                528       \n",
            "                                                                 \n",
            " dense_3 (Dense)             (None, 1)                 17        \n",
            "                                                                 \n",
            "=================================================================\n",
            "Total params: 14750145 (56.27 MB)\n",
            "Trainable params: 14750145 (56.27 MB)\n",
            "Non-trainable params: 0 (0.00 Byte)\n",
            "_________________________________________________________________\n"
          ]
        }
      ],
      "source": [
        "model_3.summary()"
      ]
    },
    {
      "cell_type": "code",
      "execution_count": 32,
      "metadata": {
        "colab": {
          "base_uri": "https://localhost:8080/"
        },
        "id": "A1G-PhbGlOB8",
        "outputId": "c94f2afc-1943-473c-f1a6-d772618d4b8e"
      },
      "outputs": [
        {
          "name": "stderr",
          "output_type": "stream",
          "text": [
            "WARNING:absl:`lr` is deprecated in Keras optimizer, please use `learning_rate` or use the legacy optimizer, e.g.,tf.keras.optimizers.legacy.Adam.\n"
          ]
        }
      ],
      "source": [
        "from tensorflow.keras.optimizers import RMSprop, Adam\n",
        "import tensorflow as tf\n",
        "#from tensorflow_addons.optimizers import AdamW\n",
        "from tensorflow.keras.optimizers import SGD\n",
        "opt = Adam(lr=0.0001)\n",
        "model_3.compile(loss='binary_crossentropy',optimizer=opt,metrics=['accuracy'])"
      ]
    },
    {
      "cell_type": "code",
      "execution_count": 33,
      "metadata": {
        "id": "-dwPJTbLbGT4"
      },
      "outputs": [],
      "source": [
        "from tensorflow.keras.preprocessing.image import ImageDataGenerator\n",
        "datagen=ImageDataGenerator()"
      ]
    },
    {
      "cell_type": "code",
      "execution_count": 34,
      "metadata": {
        "id": "1lyNEWtKcOuV"
      },
      "outputs": [],
      "source": [
        "def to_tupple(img,label):\n",
        "  return img,label\n",
        "def create_fn(x,y):\n",
        "     x=tf.data.Dataset.from_tensor_slices((tf.constant(x),tf.constant(y)))\n",
        "     x=x.shuffle(buffer_size=len(x))\n",
        "     x=x.map(to_tupple)\n",
        "     return x"
      ]
    },
    {
      "cell_type": "code",
      "execution_count": 35,
      "metadata": {
        "colab": {
          "base_uri": "https://localhost:8080/"
        },
        "id": "aSLLZCqYlyym",
        "outputId": "63dce20b-2d94-4c6e-8b71-34009122aeca"
      },
      "outputs": [
        {
          "name": "stdout",
          "output_type": "stream",
          "text": [
            "Epoch 1/100\n",
            "58/58 [==============================] - 15s 69ms/step - loss: 2.1210 - accuracy: 0.9018 - val_loss: 0.2971 - val_accuracy: 0.9517\n",
            "Epoch 2/100\n",
            "58/58 [==============================] - 2s 29ms/step - loss: 0.2783 - accuracy: 0.9515 - val_loss: 0.2119 - val_accuracy: 0.9517\n",
            "Epoch 3/100\n",
            "58/58 [==============================] - 2s 30ms/step - loss: 0.2345 - accuracy: 0.9515 - val_loss: 0.1748 - val_accuracy: 0.9517\n",
            "Epoch 4/100\n",
            "58/58 [==============================] - 2s 32ms/step - loss: 0.2047 - accuracy: 0.9509 - val_loss: 0.2263 - val_accuracy: 0.9517\n",
            "Epoch 5/100\n",
            "58/58 [==============================] - 2s 31ms/step - loss: 0.2272 - accuracy: 0.9515 - val_loss: 0.1863 - val_accuracy: 0.9517\n",
            "Epoch 6/100\n",
            "58/58 [==============================] - 2s 30ms/step - loss: 0.1861 - accuracy: 0.9520 - val_loss: 0.1754 - val_accuracy: 0.9517\n",
            "Epoch 7/100\n",
            "58/58 [==============================] - 2s 30ms/step - loss: 0.1758 - accuracy: 0.9515 - val_loss: 0.1530 - val_accuracy: 0.9469\n",
            "Epoch 8/100\n",
            "58/58 [==============================] - 2s 30ms/step - loss: 0.1567 - accuracy: 0.9595 - val_loss: 0.1536 - val_accuracy: 0.9469\n",
            "Epoch 9/100\n",
            "58/58 [==============================] - 2s 30ms/step - loss: 0.1609 - accuracy: 0.9515 - val_loss: 0.1550 - val_accuracy: 0.9517\n",
            "Epoch 10/100\n",
            "58/58 [==============================] - 2s 30ms/step - loss: 0.1578 - accuracy: 0.9558 - val_loss: 0.1430 - val_accuracy: 0.9469\n",
            "Epoch 11/100\n",
            "58/58 [==============================] - 2s 32ms/step - loss: 0.1431 - accuracy: 0.9595 - val_loss: 0.1429 - val_accuracy: 0.9565\n",
            "Epoch 12/100\n",
            "58/58 [==============================] - 2s 32ms/step - loss: 0.2748 - accuracy: 0.9558 - val_loss: 0.1960 - val_accuracy: 0.9517\n",
            "Epoch 13/100\n",
            "58/58 [==============================] - 2s 30ms/step - loss: 0.1974 - accuracy: 0.9515 - val_loss: 0.1943 - val_accuracy: 0.9517\n",
            "Epoch 14/100\n",
            "58/58 [==============================] - 2s 30ms/step - loss: 0.1968 - accuracy: 0.9515 - val_loss: 0.1932 - val_accuracy: 0.9517\n",
            "Epoch 15/100\n",
            "58/58 [==============================] - 2s 30ms/step - loss: 0.1975 - accuracy: 0.9515 - val_loss: 0.1958 - val_accuracy: 0.9517\n",
            "Epoch 16/100\n",
            "58/58 [==============================] - 2s 30ms/step - loss: 0.1952 - accuracy: 0.9515 - val_loss: 0.1927 - val_accuracy: 0.9517\n",
            "Epoch 17/100\n",
            "58/58 [==============================] - 2s 30ms/step - loss: 0.1933 - accuracy: 0.9515 - val_loss: 0.1902 - val_accuracy: 0.9517\n",
            "Epoch 18/100\n",
            "58/58 [==============================] - 2s 30ms/step - loss: 0.1914 - accuracy: 0.9515 - val_loss: 0.1708 - val_accuracy: 0.9517\n",
            "Epoch 19/100\n",
            "58/58 [==============================] - 2s 32ms/step - loss: 0.1716 - accuracy: 0.9574 - val_loss: 0.2055 - val_accuracy: 0.9517\n",
            "Epoch 20/100\n",
            "58/58 [==============================] - 2s 31ms/step - loss: 0.2757 - accuracy: 0.9520 - val_loss: 0.1933 - val_accuracy: 0.9517\n",
            "Epoch 21/100\n",
            "58/58 [==============================] - 2s 30ms/step - loss: 0.2293 - accuracy: 0.9515 - val_loss: 0.1922 - val_accuracy: 0.9517\n",
            "Epoch 22/100\n",
            "58/58 [==============================] - 2s 30ms/step - loss: 0.2036 - accuracy: 0.9515 - val_loss: 0.2027 - val_accuracy: 0.9517\n",
            "Epoch 23/100\n",
            "58/58 [==============================] - 2s 30ms/step - loss: 0.1968 - accuracy: 0.9515 - val_loss: 0.1947 - val_accuracy: 0.9517\n",
            "Epoch 24/100\n",
            "58/58 [==============================] - 2s 30ms/step - loss: 0.1971 - accuracy: 0.9515 - val_loss: 0.1854 - val_accuracy: 0.9517\n",
            "Epoch 25/100\n",
            "58/58 [==============================] - 2s 30ms/step - loss: 0.2073 - accuracy: 0.9515 - val_loss: 0.1975 - val_accuracy: 0.9517\n",
            "Epoch 26/100\n",
            "58/58 [==============================] - 2s 32ms/step - loss: 0.1960 - accuracy: 0.9515 - val_loss: 0.1581 - val_accuracy: 0.9517\n",
            "Epoch 27/100\n",
            "58/58 [==============================] - 2s 31ms/step - loss: 0.1749 - accuracy: 0.9547 - val_loss: 0.1439 - val_accuracy: 0.9662\n",
            "Epoch 28/100\n",
            "58/58 [==============================] - 2s 30ms/step - loss: 0.1896 - accuracy: 0.9504 - val_loss: 0.1711 - val_accuracy: 0.9517\n",
            "Epoch 29/100\n",
            "58/58 [==============================] - 2s 30ms/step - loss: 0.2740 - accuracy: 0.9450 - val_loss: 0.2107 - val_accuracy: 0.9517\n",
            "Epoch 30/100\n",
            "58/58 [==============================] - 2s 30ms/step - loss: 0.2286 - accuracy: 0.9515 - val_loss: 0.2004 - val_accuracy: 0.9517\n",
            "Epoch 31/100\n",
            "58/58 [==============================] - 2s 30ms/step - loss: 0.2130 - accuracy: 0.9515 - val_loss: 0.1959 - val_accuracy: 0.9517\n",
            "Epoch 32/100\n",
            "58/58 [==============================] - 2s 30ms/step - loss: 0.1999 - accuracy: 0.9515 - val_loss: 0.1933 - val_accuracy: 0.9517\n",
            "Epoch 33/100\n",
            "58/58 [==============================] - 2s 32ms/step - loss: 0.2200 - accuracy: 0.9515 - val_loss: 0.2029 - val_accuracy: 0.9517\n",
            "Epoch 34/100\n",
            "58/58 [==============================] - 2s 33ms/step - loss: 0.2005 - accuracy: 0.9515 - val_loss: 0.1926 - val_accuracy: 0.9517\n",
            "Epoch 35/100\n",
            "58/58 [==============================] - 2s 30ms/step - loss: 0.2042 - accuracy: 0.9515 - val_loss: 0.1937 - val_accuracy: 0.9517\n",
            "Epoch 36/100\n",
            "58/58 [==============================] - 2s 31ms/step - loss: 0.1962 - accuracy: 0.9515 - val_loss: 0.1911 - val_accuracy: 0.9517\n",
            "Epoch 37/100\n",
            "58/58 [==============================] - 2s 31ms/step - loss: 0.1904 - accuracy: 0.9515 - val_loss: 0.1850 - val_accuracy: 0.9517\n",
            "Epoch 38/100\n",
            "58/58 [==============================] - 2s 30ms/step - loss: 0.1980 - accuracy: 0.9504 - val_loss: 0.2527 - val_accuracy: 0.9517\n",
            "Epoch 39/100\n",
            "58/58 [==============================] - 2s 30ms/step - loss: 0.2192 - accuracy: 0.9515 - val_loss: 0.1922 - val_accuracy: 0.9517\n",
            "Epoch 40/100\n",
            "58/58 [==============================] - 2s 32ms/step - loss: 0.1927 - accuracy: 0.9515 - val_loss: 0.1797 - val_accuracy: 0.9517\n",
            "Epoch 41/100\n",
            "58/58 [==============================] - 2s 34ms/step - loss: 0.2629 - accuracy: 0.9509 - val_loss: 0.2002 - val_accuracy: 0.9517\n",
            "Epoch 42/100\n",
            "58/58 [==============================] - 2s 31ms/step - loss: 0.2073 - accuracy: 0.9515 - val_loss: 0.1778 - val_accuracy: 0.9517\n",
            "Epoch 43/100\n",
            "58/58 [==============================] - 2s 30ms/step - loss: 0.2001 - accuracy: 0.9369 - val_loss: 0.1880 - val_accuracy: 0.9517\n",
            "Epoch 44/100\n",
            "58/58 [==============================] - 2s 30ms/step - loss: 0.1981 - accuracy: 0.9525 - val_loss: 0.1960 - val_accuracy: 0.9517\n",
            "Epoch 45/100\n",
            "58/58 [==============================] - 2s 31ms/step - loss: 0.2323 - accuracy: 0.9423 - val_loss: 0.1886 - val_accuracy: 0.9517\n",
            "Epoch 46/100\n",
            "58/58 [==============================] - 2s 31ms/step - loss: 0.1901 - accuracy: 0.9525 - val_loss: 0.1815 - val_accuracy: 0.9517\n",
            "Epoch 47/100\n",
            "58/58 [==============================] - 2s 31ms/step - loss: 0.1901 - accuracy: 0.9515 - val_loss: 0.1853 - val_accuracy: 0.9517\n",
            "Epoch 48/100\n",
            "58/58 [==============================] - 2s 33ms/step - loss: 0.1936 - accuracy: 0.9525 - val_loss: 0.1762 - val_accuracy: 0.9517\n",
            "Epoch 49/100\n",
            "58/58 [==============================] - 2s 31ms/step - loss: 0.1903 - accuracy: 0.9515 - val_loss: 0.1751 - val_accuracy: 0.9517\n",
            "Epoch 50/100\n",
            "58/58 [==============================] - 2s 31ms/step - loss: 0.1951 - accuracy: 0.9520 - val_loss: 0.1901 - val_accuracy: 0.9517\n",
            "Epoch 51/100\n",
            "58/58 [==============================] - 2s 30ms/step - loss: 0.1837 - accuracy: 0.9504 - val_loss: 0.1504 - val_accuracy: 0.9517\n",
            "Epoch 52/100\n",
            "58/58 [==============================] - 2s 30ms/step - loss: 0.2269 - accuracy: 0.9482 - val_loss: 0.2050 - val_accuracy: 0.9517\n",
            "Epoch 53/100\n",
            "58/58 [==============================] - 2s 30ms/step - loss: 0.2013 - accuracy: 0.9515 - val_loss: 0.1906 - val_accuracy: 0.9517\n",
            "Epoch 54/100\n",
            "58/58 [==============================] - 2s 30ms/step - loss: 0.1943 - accuracy: 0.9428 - val_loss: 0.1807 - val_accuracy: 0.9517\n",
            "Epoch 55/100\n",
            "58/58 [==============================] - 2s 32ms/step - loss: 0.1897 - accuracy: 0.9515 - val_loss: 0.1739 - val_accuracy: 0.9517\n",
            "Epoch 56/100\n",
            "58/58 [==============================] - 2s 32ms/step - loss: 0.1778 - accuracy: 0.9536 - val_loss: 0.1824 - val_accuracy: 0.9517\n",
            "Epoch 57/100\n",
            "58/58 [==============================] - 2s 30ms/step - loss: 0.2925 - accuracy: 0.9396 - val_loss: 0.2004 - val_accuracy: 0.9517\n",
            "Epoch 58/100\n",
            "58/58 [==============================] - 2s 30ms/step - loss: 0.1841 - accuracy: 0.9536 - val_loss: 0.1624 - val_accuracy: 0.9565\n",
            "Epoch 59/100\n",
            "58/58 [==============================] - 2s 31ms/step - loss: 0.2137 - accuracy: 0.9391 - val_loss: 0.1649 - val_accuracy: 0.9517\n",
            "Epoch 60/100\n",
            "58/58 [==============================] - 2s 31ms/step - loss: 0.1651 - accuracy: 0.9558 - val_loss: 0.1573 - val_accuracy: 0.9517\n",
            "Epoch 61/100\n",
            "58/58 [==============================] - 2s 30ms/step - loss: 0.1745 - accuracy: 0.9579 - val_loss: 0.1808 - val_accuracy: 0.9517\n",
            "Epoch 62/100\n",
            "58/58 [==============================] - 2s 33ms/step - loss: 0.2541 - accuracy: 0.9515 - val_loss: 0.1962 - val_accuracy: 0.9517\n",
            "Epoch 63/100\n",
            "58/58 [==============================] - 2s 33ms/step - loss: 0.1809 - accuracy: 0.9515 - val_loss: 0.1628 - val_accuracy: 0.9517\n",
            "Epoch 64/100\n",
            "58/58 [==============================] - 2s 30ms/step - loss: 0.1852 - accuracy: 0.9515 - val_loss: 0.1822 - val_accuracy: 0.9517\n",
            "Epoch 65/100\n",
            "58/58 [==============================] - 2s 30ms/step - loss: 0.1695 - accuracy: 0.9547 - val_loss: 0.1503 - val_accuracy: 0.9662\n",
            "Epoch 66/100\n",
            "58/58 [==============================] - 2s 30ms/step - loss: 0.1453 - accuracy: 0.9595 - val_loss: 0.1712 - val_accuracy: 0.9517\n",
            "Epoch 67/100\n",
            "58/58 [==============================] - 2s 30ms/step - loss: 0.1638 - accuracy: 0.9536 - val_loss: 0.1662 - val_accuracy: 0.9517\n",
            "Epoch 68/100\n",
            "58/58 [==============================] - 2s 30ms/step - loss: 0.1543 - accuracy: 0.9574 - val_loss: 0.1481 - val_accuracy: 0.9614\n",
            "Epoch 69/100\n",
            "58/58 [==============================] - 2s 31ms/step - loss: 0.1886 - accuracy: 0.9542 - val_loss: 0.1846 - val_accuracy: 0.9517\n",
            "Epoch 70/100\n",
            "58/58 [==============================] - 2s 33ms/step - loss: 0.1809 - accuracy: 0.9520 - val_loss: 0.1895 - val_accuracy: 0.9517\n",
            "Epoch 71/100\n",
            "58/58 [==============================] - 2s 31ms/step - loss: 0.1795 - accuracy: 0.9536 - val_loss: 0.2044 - val_accuracy: 0.9469\n",
            "Epoch 72/100\n",
            "58/58 [==============================] - 2s 30ms/step - loss: 0.1764 - accuracy: 0.9536 - val_loss: 0.1492 - val_accuracy: 0.9565\n",
            "Epoch 73/100\n",
            "58/58 [==============================] - 2s 30ms/step - loss: 0.1637 - accuracy: 0.9569 - val_loss: 0.1476 - val_accuracy: 0.9565\n",
            "Epoch 74/100\n",
            "58/58 [==============================] - 2s 30ms/step - loss: 0.1424 - accuracy: 0.9606 - val_loss: 0.1554 - val_accuracy: 0.9614\n",
            "Epoch 75/100\n",
            "58/58 [==============================] - 2s 30ms/step - loss: 0.1554 - accuracy: 0.9558 - val_loss: 0.1497 - val_accuracy: 0.9614\n",
            "Epoch 76/100\n",
            "58/58 [==============================] - 2s 30ms/step - loss: 0.1407 - accuracy: 0.9606 - val_loss: 0.1726 - val_accuracy: 0.9469\n",
            "Epoch 77/100\n",
            "58/58 [==============================] - 2s 32ms/step - loss: 0.1718 - accuracy: 0.9552 - val_loss: 0.1541 - val_accuracy: 0.9565\n",
            "Epoch 78/100\n",
            "58/58 [==============================] - 2s 32ms/step - loss: 0.1421 - accuracy: 0.9622 - val_loss: 0.3245 - val_accuracy: 0.9565\n",
            "Epoch 79/100\n",
            "58/58 [==============================] - 2s 30ms/step - loss: 0.1538 - accuracy: 0.9617 - val_loss: 0.1489 - val_accuracy: 0.9614\n",
            "Epoch 80/100\n",
            "58/58 [==============================] - 2s 31ms/step - loss: 0.1414 - accuracy: 0.9590 - val_loss: 0.1507 - val_accuracy: 0.9758\n",
            "Epoch 81/100\n",
            "58/58 [==============================] - 2s 30ms/step - loss: 0.1465 - accuracy: 0.9579 - val_loss: 0.1450 - val_accuracy: 0.9565\n",
            "Epoch 82/100\n",
            "58/58 [==============================] - 2s 31ms/step - loss: 0.1397 - accuracy: 0.9633 - val_loss: 0.1633 - val_accuracy: 0.9565\n",
            "Epoch 83/100\n",
            "58/58 [==============================] - 2s 31ms/step - loss: 0.1440 - accuracy: 0.9622 - val_loss: 0.1509 - val_accuracy: 0.9565\n",
            "Epoch 84/100\n",
            "58/58 [==============================] - 2s 32ms/step - loss: 0.1480 - accuracy: 0.9617 - val_loss: 0.1500 - val_accuracy: 0.9662\n",
            "Epoch 85/100\n",
            "58/58 [==============================] - 2s 33ms/step - loss: 0.1374 - accuracy: 0.9644 - val_loss: 0.1427 - val_accuracy: 0.9662\n",
            "Epoch 86/100\n",
            "58/58 [==============================] - 2s 30ms/step - loss: 0.1466 - accuracy: 0.9617 - val_loss: 0.1438 - val_accuracy: 0.9565\n",
            "Epoch 87/100\n",
            "58/58 [==============================] - 2s 30ms/step - loss: 0.1425 - accuracy: 0.9622 - val_loss: 0.1531 - val_accuracy: 0.9662\n",
            "Epoch 88/100\n",
            "58/58 [==============================] - 2s 30ms/step - loss: 0.1596 - accuracy: 0.9547 - val_loss: 0.2165 - val_accuracy: 0.9275\n",
            "Epoch 89/100\n",
            "58/58 [==============================] - 2s 31ms/step - loss: 0.1923 - accuracy: 0.9515 - val_loss: 0.1656 - val_accuracy: 0.9517\n",
            "Epoch 90/100\n",
            "58/58 [==============================] - 2s 31ms/step - loss: 0.1823 - accuracy: 0.9531 - val_loss: 0.1544 - val_accuracy: 0.9517\n",
            "Epoch 91/100\n",
            "58/58 [==============================] - 2s 32ms/step - loss: 0.2004 - accuracy: 0.9547 - val_loss: 0.2106 - val_accuracy: 0.9517\n",
            "Epoch 92/100\n",
            "58/58 [==============================] - 2s 32ms/step - loss: 0.2043 - accuracy: 0.9515 - val_loss: 0.1570 - val_accuracy: 0.9517\n",
            "Epoch 93/100\n",
            "58/58 [==============================] - 2s 31ms/step - loss: 0.1860 - accuracy: 0.9612 - val_loss: 0.1760 - val_accuracy: 0.9565\n",
            "Epoch 94/100\n",
            "58/58 [==============================] - 2s 30ms/step - loss: 0.2382 - accuracy: 0.9552 - val_loss: 0.1616 - val_accuracy: 0.9517\n",
            "Epoch 95/100\n",
            "58/58 [==============================] - 2s 31ms/step - loss: 0.1516 - accuracy: 0.9595 - val_loss: 0.1664 - val_accuracy: 0.9517\n",
            "Epoch 96/100\n",
            "58/58 [==============================] - 2s 31ms/step - loss: 0.1512 - accuracy: 0.9574 - val_loss: 0.1409 - val_accuracy: 0.9565\n",
            "Epoch 97/100\n",
            "58/58 [==============================] - 2s 31ms/step - loss: 0.1566 - accuracy: 0.9569 - val_loss: 0.1554 - val_accuracy: 0.9517\n",
            "Epoch 98/100\n",
            "58/58 [==============================] - 2s 31ms/step - loss: 0.1445 - accuracy: 0.9569 - val_loss: 0.1535 - val_accuracy: 0.9517\n",
            "Epoch 99/100\n",
            "58/58 [==============================] - 2s 33ms/step - loss: 0.1483 - accuracy: 0.9563 - val_loss: 0.1537 - val_accuracy: 0.9469\n",
            "Epoch 100/100\n",
            "58/58 [==============================] - 2s 31ms/step - loss: 0.1368 - accuracy: 0.9633 - val_loss: 0.1374 - val_accuracy: 0.9662\n"
          ]
        }
      ],
      "source": [
        "history_VGG=model_3.fit(\n",
        "   x=trainX,y=trainY,\n",
        "                              epochs = 100, validation_data=(valX, valY)\n",
        "\n",
        ")"
      ]
    },
    {
      "cell_type": "code",
      "execution_count": 36,
      "metadata": {
        "colab": {
          "base_uri": "https://localhost:8080/"
        },
        "id": "wnnKo0ZEtkzP",
        "outputId": "ed8e0694-260e-43f7-dbb3-40f7d1332031"
      },
      "outputs": [
        {
          "data": {
            "text/plain": [
              "0"
            ]
          },
          "execution_count": 36,
          "metadata": {},
          "output_type": "execute_result"
        }
      ],
      "source": [
        "trainY[1]"
      ]
    },
    {
      "cell_type": "code",
      "execution_count": 37,
      "metadata": {
        "colab": {
          "base_uri": "https://localhost:8080/"
        },
        "id": "qSA6sKLFPKnZ",
        "outputId": "8bd18036-157f-4a19-9e11-8990a795db02"
      },
      "outputs": [
        {
          "name": "stdout",
          "output_type": "stream",
          "text": [
            "7/7 [==============================] - 0s 13ms/step - loss: 0.1374 - accuracy: 0.9662\n",
            "\n",
            "Loss: 96.62%\n"
          ]
        }
      ],
      "source": [
        "import sklearn.metrics as metrics\n",
        "from sklearn.metrics import accuracy_score\n",
        "scores = model_3.evaluate(valX, valY)\n",
        "print(\"\\nLoss: %.2f%%\" % (scores[1]*100))"
      ]
    },
    {
      "cell_type": "code",
      "execution_count": 38,
      "metadata": {
        "id": "C_FaCYxTin2i"
      },
      "outputs": [],
      "source": [
        "\n",
        "acc = history_VGG.history['accuracy']\n",
        "val_acc = history_VGG.history['val_accuracy']\n",
        "\n",
        "loss = history_VGG.history['loss']\n",
        "val_loss = history_VGG.history['val_loss']"
      ]
    },
    {
      "cell_type": "code",
      "execution_count": 39,
      "metadata": {
        "colab": {
          "base_uri": "https://localhost:8080/"
        },
        "id": "vikvW9ergoGw",
        "outputId": "2cd7f716-4aaf-4e8f-83e7-c1bcce66d9ad"
      },
      "outputs": [
        {
          "name": "stdout",
          "output_type": "stream",
          "text": [
            "[0.9018338918685913, 0.9514563083648682, 0.9514563083648682, 0.9509169459342957, 0.9514563083648682, 0.9519956707954407, 0.9514563083648682, 0.9595469236373901, 0.9514563083648682, 0.9557713270187378, 0.9595469236373901, 0.9557713270187378, 0.9514563083648682, 0.9514563083648682, 0.9514563083648682, 0.9514563083648682, 0.9514563083648682, 0.9514563083648682, 0.9573894143104553, 0.9519956707954407, 0.9514563083648682, 0.9514563083648682, 0.9514563083648682, 0.9514563083648682, 0.9514563083648682, 0.9514563083648682, 0.954692542552948, 0.9503775835037231, 0.9449838399887085, 0.9514563083648682, 0.9514563083648682, 0.9514563083648682, 0.9514563083648682, 0.9514563083648682, 0.9514563083648682, 0.9514563083648682, 0.9514563083648682, 0.9503775835037231, 0.9514563083648682, 0.9514563083648682, 0.9509169459342957, 0.9514563083648682, 0.9368932247161865, 0.9525350332260132, 0.9422869682312012, 0.9525350332260132, 0.9514563083648682, 0.9525350332260132, 0.9514563083648682, 0.9519956707954407, 0.9503775835037231, 0.9482200741767883, 0.9514563083648682, 0.9428263306617737, 0.9514563083648682, 0.953613817691803, 0.9395900964736938, 0.953613817691803, 0.9390506744384766, 0.9557713270187378, 0.9579287767410278, 0.9514563083648682, 0.9514563083648682, 0.9514563083648682, 0.954692542552948, 0.9595469236373901, 0.953613817691803, 0.9573894143104553, 0.9541531801223755, 0.9519956707954407, 0.953613817691803, 0.953613817691803, 0.9568500518798828, 0.9606256484985352, 0.9557713270187378, 0.9606256484985352, 0.9552319049835205, 0.9622437953948975, 0.961704432964325, 0.9590075612068176, 0.9579287767410278, 0.9633225202560425, 0.9622437953948975, 0.961704432964325, 0.9644013047218323, 0.961704432964325, 0.9622437953948975, 0.954692542552948, 0.9514563083648682, 0.9530744552612305, 0.954692542552948, 0.9514563083648682, 0.9611650705337524, 0.9552319049835205, 0.9595469236373901, 0.9573894143104553, 0.9568500518798828, 0.9568500518798828, 0.9563106894493103, 0.9633225202560425] [0.9516907930374146, 0.9516907930374146, 0.9516907930374146, 0.9516907930374146, 0.9516907930374146, 0.9516907930374146, 0.9468598961830139, 0.9468598961830139, 0.9516907930374146, 0.9468598961830139, 0.95652174949646, 0.9516907930374146, 0.9516907930374146, 0.9516907930374146, 0.9516907930374146, 0.9516907930374146, 0.9516907930374146, 0.9516907930374146, 0.9516907930374146, 0.9516907930374146, 0.9516907930374146, 0.9516907930374146, 0.9516907930374146, 0.9516907930374146, 0.9516907930374146, 0.9516907930374146, 0.966183602809906, 0.9516907930374146, 0.9516907930374146, 0.9516907930374146, 0.9516907930374146, 0.9516907930374146, 0.9516907930374146, 0.9516907930374146, 0.9516907930374146, 0.9516907930374146, 0.9516907930374146, 0.9516907930374146, 0.9516907930374146, 0.9516907930374146, 0.9516907930374146, 0.9516907930374146, 0.9516907930374146, 0.9516907930374146, 0.9516907930374146, 0.9516907930374146, 0.9516907930374146, 0.9516907930374146, 0.9516907930374146, 0.9516907930374146, 0.9516907930374146, 0.9516907930374146, 0.9516907930374146, 0.9516907930374146, 0.9516907930374146, 0.9516907930374146, 0.9516907930374146, 0.95652174949646, 0.9516907930374146, 0.9516907930374146, 0.9516907930374146, 0.9516907930374146, 0.9516907930374146, 0.9516907930374146, 0.966183602809906, 0.9516907930374146, 0.9516907930374146, 0.9613526463508606, 0.9516907930374146, 0.9516907930374146, 0.9468598961830139, 0.95652174949646, 0.95652174949646, 0.9613526463508606, 0.9613526463508606, 0.9468598961830139, 0.95652174949646, 0.95652174949646, 0.9613526463508606, 0.9758453965187073, 0.95652174949646, 0.95652174949646, 0.95652174949646, 0.966183602809906, 0.966183602809906, 0.95652174949646, 0.966183602809906, 0.9275362491607666, 0.9516907930374146, 0.9516907930374146, 0.9516907930374146, 0.9516907930374146, 0.95652174949646, 0.9516907930374146, 0.9516907930374146, 0.95652174949646, 0.9516907930374146, 0.9516907930374146, 0.9468598961830139, 0.966183602809906]\n"
          ]
        }
      ],
      "source": [
        "print(acc,val_acc)"
      ]
    },
    {
      "cell_type": "code",
      "execution_count": 40,
      "metadata": {
        "colab": {
          "base_uri": "https://localhost:8080/",
          "height": 699
        },
        "id": "Dd3wc8wbiu-P",
        "outputId": "c58fae70-701d-49b3-ef92-16724cccef73"
      },
      "outputs": [
        {
          "data": {
            "image/png": "[encoded data removed]",
            "text/plain": [
              "<Figure size 800x800 with 2 Axes>"
            ]
          },
          "metadata": {},
          "output_type": "display_data"
        }
      ],
      "source": [
        "EPOCHS=100\n",
        "plt.figure(figsize=(8, 8))\n",
        "plt.subplot(1, 2, 1)\n",
        "plt.plot(range(EPOCHS), acc, label='Training Accuracy')\n",
        "plt.plot(range(EPOCHS), val_acc, label='Validation Accuracy')\n",
        "plt.legend(loc='lower right')\n",
        "plt.title('Training and Validation Accuracy')\n",
        "\n",
        "plt.subplot(1, 2, 2)\n",
        "plt.plot(range(EPOCHS), loss, label='Training Loss')\n",
        "plt.plot(range(EPOCHS), val_loss, label='Validation Loss')\n",
        "plt.legend(loc='upper right')\n",
        "plt.title('Training and Validation Loss')\n",
        "plt.show()"
      ]
    },
    {
      "cell_type": "code",
      "execution_count": 41,
      "metadata": {
        "colab": {
          "base_uri": "https://localhost:8080/",
          "height": 933
        },
        "id": "JiJ8Dp0Ci6YA",
        "outputId": "03edad9d-41cc-49e9-dec8-ab0c6ae05808"
      },
      "outputs": [
        {
          "name": "stdout",
          "output_type": "stream",
          "text": [
            "7/7 [==============================] - 0s 11ms/step\n",
            "Accuracy: 0.966183574879227\n",
            "              precision    recall  f1-score   support\n",
            "\n",
            "           0       0.97      0.99      0.98       197\n",
            "           1       0.80      0.40      0.53        10\n",
            "\n",
            "    accuracy                           0.97       207\n",
            "   macro avg       0.89      0.70      0.76       207\n",
            "weighted avg       0.96      0.97      0.96       207\n",
            "\n",
            "0.4\n",
            "0.9949238578680203\n"
          ]
        },
        {
          "data": {
            "image/png": "[encoded data removed]",
            "text/plain": [
              "<Figure size 250x250 with 1 Axes>"
            ]
          },
          "metadata": {},
          "output_type": "display_data"
        },
        {
          "data": {
            "text/plain": [
              "<Axes: >"
            ]
          },
          "execution_count": 41,
          "metadata": {},
          "output_type": "execute_result"
        },
        {
          "data": {
            "image/png": "[encoded data removed]",
            "text/plain": [
              "<Figure size 640x480 with 2 Axes>"
            ]
          },
          "metadata": {},
          "output_type": "display_data"
        }
      ],
      "source": [
        "from sklearn.metrics import recall_score\n",
        "from sklearn.metrics import accuracy_score\n",
        "# Model Accuracy, how often is the classifier correct?\n",
        "predictions = model_3.predict(valX)\n",
        "\n",
        "predictions = predictions>0.5\n",
        "#print(predictions)\n",
        "from sklearn.metrics import classification_report\n",
        "print(\"Accuracy:\",metrics.accuracy_score(valY, predictions))\n",
        "print(classification_report(valY, predictions))\n",
        "from sklearn.metrics import confusion_matrix\n",
        "confmat = confusion_matrix(y_true=valY, y_pred=predictions)\n",
        "sensitivity = recall_score(valY, predictions)\n",
        "print(sensitivity)\n",
        "specificity=confmat[0][0]/ (confmat[0][0] + confmat[0][1])\n",
        "print(specificity)\n",
        "fig, ax = plt.subplots(figsize=(2.5, 2.5))\n",
        "ax.matshow(confmat, cmap=plt.cm.Blues, alpha=0.3)\n",
        "for i in range(confmat.shape[0]):\n",
        "  for j in range(confmat.shape[1]):\n",
        "     ax.text(x=j, y=i,s=confmat[i, j],va='center', ha='center')\n",
        "plt.xlabel('predicted label')\n",
        "plt.ylabel('true label')\n",
        "plt.show()\n",
        "import seaborn as sns\n",
        "sns.heatmap(confmat, annot=True)"
      ]
    },
    {
      "cell_type": "code",
      "execution_count": 42,
      "metadata": {
        "colab": {
          "base_uri": "https://localhost:8080/",
          "height": 451
        },
        "id": "YvCTl16Imc89",
        "outputId": "a25820d1-7d9e-43ce-df70-92902ff7e677"
      },
      "outputs": [
        {
          "data": {
            "image/png": "[encoded data removed]",
            "text/plain": [
              "<Figure size 800x500 with 1 Axes>"
            ]
          },
          "metadata": {},
          "output_type": "display_data"
        }
      ],
      "source": [
        "import pandas as pd\n",
        "pd.DataFrame(history_VGG.history).plot(figsize=(8,5))\n",
        "plt.grid(True)\n",
        "plt.gca().set_ylim(0,1)\n",
        "plt.show()"
      ]
    },
    {
      "cell_type": "code",
      "execution_count": 43,
      "metadata": {
        "colab": {
          "base_uri": "https://localhost:8080/"
        },
        "id": "PP7O9wO-nWBG",
        "outputId": "e1d496f4-54f4-4bb0-f45b-c1f5ac55bb57"
      },
      "outputs": [
        {
          "name": "stdout",
          "output_type": "stream",
          "text": [
            "8/8 [==============================] - 1s 88ms/step - loss: 0.1339 - accuracy: 0.9607\n",
            "\n",
            "Accuracy: 96.07%\n"
          ]
        }
      ],
      "source": [
        "scores = model_3.evaluate(testX, testY)\n",
        "print(\"\\nAccuracy: %.2f%%\" % (scores[1]*100))"
      ]
    }
  ],
  "metadata": {
    "accelerator": "GPU",
    "colab": {
      "provenance": []
    },
    "kernelspec": {
      "display_name": "Python 3",
      "name": "python3"
    },
    "language_info": {
      "codemirror_mode": {
        "name": "ipython",
        "version": 3
      },
      "file_extension": ".py",
      "mimetype": "text/x-python",
      "name": "python",
      "nbconvert_exporter": "python",
      "pygments_lexer": "ipython3",
      "version": "3.10.11"
    }
  },
  "nbformat": 4,
  "nbformat_minor": 0
}
